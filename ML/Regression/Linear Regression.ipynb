{
 "cells": [
  {
   "cell_type": "markdown",
   "metadata": {},
   "source": [
    "We take $n$ observations, each time recording $d$ features.\n",
    "\n",
    "**$X$**: Design Matrix $n \\times d$  \n",
    "\n",
    "$\\vec{y}$: Training Labels $n \\times 1$\n",
    "\n",
    "There is some vector $\\vec{\\beta}$ which defines the true relationship between our features and our labels, $\\vec{y} = X\\vec{\\beta}$. In practice, we must include a $\\vec{\\epsilon}$ as a term representing the noise in each of our individual observations. This noise makes it difficult to find the exact relationship $\\vec{\\beta}$. \n",
    "\n",
    "Instead, we attempt to recover $\\hat{\\beta}$, our best prediction of the relationship, such that $\\vec{y} = X\\hat{\\beta} + \\vec{\\epsilon}$. This is a **model**. "
   ]
  },
  {
   "cell_type": "code",
   "execution_count": null,
   "metadata": {
    "collapsed": true
   },
   "outputs": [],
   "source": []
  }
 ],
 "metadata": {
  "kernelspec": {
   "display_name": "Python 3",
   "language": "python",
   "name": "python3"
  },
  "language_info": {
   "codemirror_mode": {
    "name": "ipython",
    "version": 3
   },
   "file_extension": ".py",
   "mimetype": "text/x-python",
   "name": "python",
   "nbconvert_exporter": "python",
   "pygments_lexer": "ipython3",
   "version": "3.6.1"
  }
 },
 "nbformat": 4,
 "nbformat_minor": 2
}
