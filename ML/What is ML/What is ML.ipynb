{
 "cells": [
  {
   "cell_type": "markdown",
   "metadata": {},
   "source": [
    "# ML Series: What is Machine Learning? "
   ]
  },
  {
   "cell_type": "markdown",
   "metadata": {},
   "source": [
    "*Authored by Adish Jain*"
   ]
  },
  {
   "cell_type": "markdown",
   "metadata": {},
   "source": [
    "## Background "
   ]
  },
  {
   "cell_type": "markdown",
   "metadata": {},
   "source": [
    "The term *machine learning* was coined in 1959 by computer scientist Arthur Samuel after his work on creating a checker playing program. Samuel defined machine learning as:"
   ]
  },
  {
   "cell_type": "markdown",
   "metadata": {},
   "source": [
    "> \"A field of study that gives computers the ability to learn without being explicitly programmed\" - Arthur Samuel"
   ]
  },
  {
   "cell_type": "markdown",
   "metadata": {},
   "source": [
    "## Taxonomy"
   ]
  },
  {
   "cell_type": "markdown",
   "metadata": {},
   "source": [
    "<img src=\"taxonomy.png\", width=500px>"
   ]
  },
  {
   "cell_type": "markdown",
   "metadata": {},
   "source": [
    "### Regression "
   ]
  },
  {
   "cell_type": "markdown",
   "metadata": {},
   "source": [
    "Let's use an intuitive example to understand what regression means. Say I'm a restaurant owner and I need to know how many people to have on staff for shifts throughout the day. What are some things I might consider? I might want to know:\n",
    "1. **What is the weather like outside?** I serve hot food so there might be less traffic on a hot day. \n",
    "2. **What is the time?** I've noticed that there are generally more people at the restaurant during lunch and dinner times. \n",
    "3. **What day of the week is it?** I've also noticed that on weekends we see more traffic than weekdays.\n",
    "\n",
    "Let's also say there is some oracle which tells me what the optimal number of servers to have at any given time is. "
   ]
  },
  {
   "cell_type": "markdown",
   "metadata": {},
   "source": [
    "### Classification"
   ]
  },
  {
   "cell_type": "markdown",
   "metadata": {},
   "source": [
    "## Optimization Problems"
   ]
  },
  {
   "cell_type": "markdown",
   "metadata": {},
   "source": [
    "Machine learning problems are really just optimization problems. \n",
    "\n",
    "All of these **features** that we've identified above will help me determine how many servers I should have during a certain shift, such that people are served as quickly as possible. \n",
    "\n",
    "We could determine some sort of **loss function**, which defines what exactly it means to serve people as quickly as possible. This could be something like: for the $i^{th}$ customer, let $L(i) = $ \n",
    "\n",
    "\n",
    "What if I just hired 100 servers all the time? Well then, I'd probably go broke. Which is why I need to include some sort of **constraints** to my optimization problem, which bound the solution. "
   ]
  },
  {
   "cell_type": "markdown",
   "metadata": {},
   "source": [
    "### Cost Functions"
   ]
  },
  {
   "cell_type": "markdown",
   "metadata": {},
   "source": [
    "The cost function is the object we are trying to optimize. Here are some examples of common cost functions:\n",
    "\n",
    "1. "
   ]
  },
  {
   "cell_type": "markdown",
   "metadata": {},
   "source": [
    "### Algorithms "
   ]
  },
  {
   "cell_type": "markdown",
   "metadata": {},
   "source": [
    "## In Practice"
   ]
  },
  {
   "cell_type": "markdown",
   "metadata": {},
   "source": [
    "### The Lifecycle"
   ]
  },
  {
   "cell_type": "markdown",
   "metadata": {},
   "source": [
    "<img src=\"pipeline.png\", width=500px>"
   ]
  },
  {
   "cell_type": "markdown",
   "metadata": {},
   "source": [
    "### The Data"
   ]
  },
  {
   "cell_type": "markdown",
   "metadata": {},
   "source": [
    "We take $n$ observations, each time recording $d$ features.\n",
    "\n",
    "**$X$**: Design Matrix $n \\times d$  \n",
    "\n",
    "$\\vec{y}$: Training Labels $n \\times 1$\n",
    "\n",
    "There is some vector $\\vec{\\beta}$ which defines the true relationship between our features and our labels, $\\vec{y} = X\\vec{\\beta}$. In practice, we must include a $\\vec{\\epsilon}$ as a term representing the noise in each of our individual observations. This noise makes it difficult to find the exact relationship $\\vec{\\beta}$. \n",
    "\n",
    "Instead, we attempt to recover $\\hat{\\beta}$, our best prediction of the relationship, such that $\\vec{y} = X\\hat{\\beta} + \\vec{\\epsilon}$. This is a **model**. "
   ]
  },
  {
   "cell_type": "markdown",
   "metadata": {},
   "source": [
    "### Train-Test Split"
   ]
  },
  {
   "cell_type": "markdown",
   "metadata": {},
   "source": [
    "<img src=\"sets.png\", width=500px>"
   ]
  },
  {
   "cell_type": "code",
   "execution_count": null,
   "metadata": {
    "collapsed": true
   },
   "outputs": [],
   "source": []
  }
 ],
 "metadata": {
  "kernelspec": {
   "display_name": "Python 3",
   "language": "python",
   "name": "python3"
  },
  "language_info": {
   "codemirror_mode": {
    "name": "ipython",
    "version": 3
   },
   "file_extension": ".py",
   "mimetype": "text/x-python",
   "name": "python",
   "nbconvert_exporter": "python",
   "pygments_lexer": "ipython3",
   "version": "3.6.1"
  }
 },
 "nbformat": 4,
 "nbformat_minor": 2
}
