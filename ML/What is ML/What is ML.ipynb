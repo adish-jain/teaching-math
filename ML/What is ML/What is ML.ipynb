{
 "cells": [
  {
   "cell_type": "markdown",
   "metadata": {},
   "source": [
    "# ML Series: What is mAcHiNe LeArnInG? "
   ]
  },
  {
   "cell_type": "markdown",
   "metadata": {},
   "source": [
    "*Authored by Adish Jain*"
   ]
  },
  {
   "cell_type": "markdown",
   "metadata": {},
   "source": [
    "## Background "
   ]
  },
  {
   "cell_type": "markdown",
   "metadata": {},
   "source": [
    "**What is ML?**"
   ]
  },
  {
   "cell_type": "markdown",
   "metadata": {},
   "source": [
    "The term *machine learning* was coined in 1959 by computer scientist Arthur Samuel after his work on creating a checker playing program. Samuel defined machine learning as:"
   ]
  },
  {
   "cell_type": "markdown",
   "metadata": {},
   "source": [
    "> \"A field of study that gives computers the ability to learn without being explicitly programmed\" - Arthur Samuel"
   ]
  },
  {
   "cell_type": "markdown",
   "metadata": {},
   "source": [
    "Machine learning is a way of framing a problem, and then applying the right tools to solve that problem. Imagine you are a mechanic, who is to fix a broken engine, or a plumber, who is to secure a leaky pipe. A machine learner is no different.\n",
    "\n",
    "Just as the mechanic will look in his tool kit for the right wrench, a machine learner will look to his set of many frameworks & algorithms to solve the problems he is faced with. So, exactly what *types* of problems does a machine learner face? \n",
    "\n",
    "Well, this depends on what type of machine learner we have! Just as a car mechanic and bike mechanic solve different types of mechanical problems, a supervised machine learner and an unsupervised machine learner solve different types of machine learning problems. "
   ]
  },
  {
   "cell_type": "markdown",
   "metadata": {},
   "source": [
    "**A Brief History of the Field**\n",
    "\n",
    "<img src=\"timeline.png\", width=800px>"
   ]
  },
  {
   "cell_type": "markdown",
   "metadata": {},
   "source": [
    "**ML Today**\n",
    "\n",
    "Today, data is the hot commodity. \n",
    "\n",
    "When you consider companies like Facebook and Google competing, what exactly is it for? Yes, it's to get you to stay on their platforms, and sure they get some incremental ad revenues the longer you stay. But what it really boils down to is that the longer you are on a platform, the more data that platform has about you. *Companies are competing for your data.* Why?\n",
    "\n",
    "*Because whoever has the most data has the best model.* The next time you ask Alexa what the weather is, or query Maps to figure out the fastest way home, or check out a show recommended to you by Netflix, or yet go on a date presented to you by Tinder, think about this fact: you can only use these apps because of machine learning, but these applications can only learn and exist because of you & your data. \n",
    "\n",
    "Data is the hot commodity, but without machine learning, one could not make sense of the data."
   ]
  },
  {
   "cell_type": "markdown",
   "metadata": {},
   "source": [
    "## Taxonomy"
   ]
  },
  {
   "cell_type": "markdown",
   "metadata": {},
   "source": [
    "### Supervised, Unsupervised, & Reinforcement Learning"
   ]
  },
  {
   "cell_type": "markdown",
   "metadata": {},
   "source": [
    "<img src=\"taxonomy.png\", width=800px>"
   ]
  },
  {
   "cell_type": "markdown",
   "metadata": {},
   "source": [
    "### ML Algorithms"
   ]
  },
  {
   "cell_type": "markdown",
   "metadata": {},
   "source": [
    "<img src=\"map.png\", widt=800px>"
   ]
  },
  {
   "cell_type": "markdown",
   "metadata": {},
   "source": [
    "## This ML Series"
   ]
  },
  {
   "cell_type": "markdown",
   "metadata": {},
   "source": [
    "### Things to Know "
   ]
  },
  {
   "cell_type": "markdown",
   "metadata": {},
   "source": [
    "<img src=\"req.png\", width=600px>\n",
    "\n",
    "****\n",
    "\n",
    "Fantastic Resource: http://gwthomas.github.io/docs/math4ml.pdf"
   ]
  },
  {
   "cell_type": "markdown",
   "metadata": {},
   "source": [
    "### What We'll Cover"
   ]
  },
  {
   "cell_type": "markdown",
   "metadata": {},
   "source": [
    "This series will focus primarily on supervised learning. We will tackle it in five parts:\n",
    "\n",
    "**Part I: The Basics of ML**\n",
    "1. What is ML?\n",
    "2. Supervised Learning\n",
    "3. Unsupervised Learning\n",
    "4. ML in Practice\n",
    "5. Bias-Variance Tradeoff\n",
    "\n",
    "**Part II: Regression**\n",
    "1. Cost/Loss Functions\n",
    "2. Linear Regression\n",
    "3. Flavors of Linear Regression\n",
    "4. Regularization\n",
    "5. Maximum-Likelihood Estimation\n",
    "\n",
    "**Part III: Classification**\n",
    "1. Decision Theory\n",
    "2. Risk Minimization\n",
    "3. Confusion Matrix & ROC Curves\n",
    "4. Logistic Regression\n",
    "5. Support Vector Machines\n",
    "6. Gaussian Discriminant Analysis (LDA & QDA)\n",
    "7. Decision Trees\n",
    "\n",
    "**Part IV: Ensemble Learning**\n",
    "1. Random Forests\n",
    "2. Adaptive Boosting\n",
    "3. Bagging\n",
    "\n",
    "**Part V: Miscellaneous**\n",
    "2. Subset Selection\n",
    "3. Gradient Descent\n",
    "4. Newton's Method\n",
    "\n",
    "\n",
    "****\n",
    "\n",
    "In each part, the goal is to build intuition and understanding around the theory. ML is meant to be practical, so we will also go one step further and play with some practical applications that arise from the underlying math. The point, then, is not only to intuitively understand ML algorithms, but also see where and how they can be purposed. Therefore, each part will consist of **math** and some **easy-to-follow Python code** which practically applies the math.\n"
   ]
  }
 ],
 "metadata": {
  "kernelspec": {
   "display_name": "Python 3",
   "language": "python",
   "name": "python3"
  },
  "language_info": {
   "codemirror_mode": {
    "name": "ipython",
    "version": 3
   },
   "file_extension": ".py",
   "mimetype": "text/x-python",
   "name": "python",
   "nbconvert_exporter": "python",
   "pygments_lexer": "ipython3",
   "version": "3.6.1"
  }
 },
 "nbformat": 4,
 "nbformat_minor": 2
}
